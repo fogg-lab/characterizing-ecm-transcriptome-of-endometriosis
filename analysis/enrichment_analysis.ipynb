{
 "cells": [
  {
   "cell_type": "code",
   "execution_count": 1,
   "metadata": {
    "vscode": {
     "languageId": "r"
    }
   },
   "outputs": [
    {
     "name": "stderr",
     "output_type": "stream",
     "text": [
      "\n",
      "\n",
      "clusterProfiler v4.6.2  For help: https://yulab-smu.top/biomedical-knowledge-mining-book/\n",
      "\n",
      "If you use clusterProfiler in published research, please cite:\n",
      "T Wu, E Hu, S Xu, M Chen, P Guo, Z Dai, T Feng, L Zhou, W Tang, L Zhan, X Fu, S Liu, X Bo, and G Yu. clusterProfiler 4.0: A universal enrichment tool for interpreting omics data. The Innovation. 2021, 2(3):100141\n",
      "\n",
      "\n",
      "Attaching package: ‘clusterProfiler’\n",
      "\n",
      "\n",
      "The following object is masked from ‘package:stats’:\n",
      "\n",
      "    filter\n",
      "\n",
      "\n",
      "Loading required package: AnnotationDbi\n",
      "\n",
      "Loading required package: stats4\n",
      "\n",
      "Loading required package: BiocGenerics\n",
      "\n",
      "\n",
      "Attaching package: ‘BiocGenerics’\n",
      "\n",
      "\n",
      "The following objects are masked from ‘package:stats’:\n",
      "\n",
      "    IQR, mad, sd, var, xtabs\n",
      "\n",
      "\n",
      "The following objects are masked from ‘package:base’:\n",
      "\n",
      "    anyDuplicated, aperm, append, as.data.frame, basename, cbind,\n",
      "    colnames, dirname, do.call, duplicated, eval, evalq, Filter, Find,\n",
      "    get, grep, grepl, intersect, is.unsorted, lapply, Map, mapply,\n",
      "    match, mget, order, paste, pmax, pmax.int, pmin, pmin.int,\n",
      "    Position, rank, rbind, Reduce, rownames, sapply, setdiff, sort,\n",
      "    table, tapply, union, unique, unsplit, which.max, which.min\n",
      "\n",
      "\n",
      "Loading required package: Biobase\n",
      "\n",
      "Welcome to Bioconductor\n",
      "\n",
      "    Vignettes contain introductory material; view with\n",
      "    'browseVignettes()'. To cite Bioconductor, see\n",
      "    'citation(\"Biobase\")', and for packages 'citation(\"pkgname\")'.\n",
      "\n",
      "\n",
      "Loading required package: IRanges\n",
      "\n",
      "Loading required package: S4Vectors\n",
      "\n",
      "\n",
      "Attaching package: ‘S4Vectors’\n",
      "\n",
      "\n",
      "The following object is masked from ‘package:clusterProfiler’:\n",
      "\n",
      "    rename\n",
      "\n",
      "\n",
      "The following objects are masked from ‘package:base’:\n",
      "\n",
      "    expand.grid, I, unname\n",
      "\n",
      "\n",
      "\n",
      "Attaching package: ‘IRanges’\n",
      "\n",
      "\n",
      "The following object is masked from ‘package:clusterProfiler’:\n",
      "\n",
      "    slice\n",
      "\n",
      "\n",
      "\n",
      "Attaching package: ‘AnnotationDbi’\n",
      "\n",
      "\n",
      "The following object is masked from ‘package:clusterProfiler’:\n",
      "\n",
      "    select\n",
      "\n",
      "\n",
      "\n",
      "\n"
     ]
    }
   ],
   "source": [
    "library(clusterProfiler)\n",
    "library(org.Hs.eg.db)\n",
    "library(ggplot2)\n",
    "library(readr)"
   ]
  },
  {
   "cell_type": "code",
   "execution_count": 2,
   "metadata": {
    "vscode": {
     "languageId": "r"
    }
   },
   "outputs": [],
   "source": [
    "input_base_dir = \"../DEMGs/\"\n",
    "input_dir = paste0(input_base_dir, \"demgs/\")\n",
    "stage_significant_input_dir = paste0(input_base_dir, \"stage_significant_demgs/\")\n",
    "\n",
    "output_base_dir <- \"../enrichment_analysis/\"\n",
    "output_dir <- paste0(output_base_dir, \"results/\")\n",
    "stage_significant_output_dir <- paste0(output_base_dir, \"stage_significant_results/\")"
   ]
  },
  {
   "cell_type": "code",
   "execution_count": 3,
   "metadata": {
    "vscode": {
     "languageId": "r"
    }
   },
   "outputs": [],
   "source": [
    "# Create output directories if they don't exist\n",
    "\n",
    "if (!dir.exists(output_base_dir)) {\n",
    "    dir.create(output_base_dir)\n",
    "}\n",
    "\n",
    "if (!dir.exists(output_dir)) {\n",
    "    dir.create(output_dir)\n",
    "}\n",
    "\n",
    "if (!dir.exists(stage_significant_output_dir)) {\n",
    "    dir.create(stage_significant_output_dir)\n",
    "}"
   ]
  },
  {
   "cell_type": "code",
   "execution_count": 12,
   "metadata": {
    "vscode": {
     "languageId": "r"
    }
   },
   "outputs": [],
   "source": [
    "### Functions for enrichment analysis\n",
    "\n",
    "get_enriched_pathways <- function(input_dir, output_dir) {\n",
    "  gene_list_fp <- paste0(input_dir, \"union_demg.txt\")\n",
    "  gene_list <- scan(gene_list_fp, what = \"\", sep = \"\\n\")\n",
    "\n",
    "  # Map the gene symbols to Entrez IDs\n",
    "  genes_entrez <- bitr(gene_list, fromType = \"SYMBOL\", toType = \"ENTREZID\", OrgDb = org.Hs.eg.db)\n",
    "  genes_entrez <- genes_entrez[!is.na(genes_entrez$ENTREZID),]\n",
    "\n",
    "  # Perform the enrichment analysis for GO\n",
    "  ego <- enrichGO(gene = genes_entrez$ENTREZID,\n",
    "                  OrgDb = org.Hs.eg.db,\n",
    "                  keyType = 'ENTREZID',\n",
    "                  ont = \"ALL\",\n",
    "                  pAdjustMethod = \"BH\",\n",
    "                  qvalueCutoff = 0.05,\n",
    "                  readable = TRUE)\n",
    "\n",
    "  # Perform the enrichment analysis for KEGG\n",
    "  kegg_result <- enrichKEGG(gene = genes_entrez$ENTREZID,\n",
    "                            organism = 'hsa',\n",
    "                            keyType = 'kegg', \n",
    "                            pAdjustMethod = \"BH\",\n",
    "                            qvalueCutoff = 0.05)\n",
    "\n",
    "  # Simplify the GO results and write to file\n",
    "  ego_simplified <- simplify(ego, cutoff=0.7, by=\"p.adjust\", select_fun=min)\n",
    "  write.table(ego@result, file = paste0(output_dir, \"go_results.tsv\"), sep = \"\\t\", quote = FALSE, row.names = FALSE)\n",
    "  write.table(ego_simplified@result, file = paste0(output_dir, \"go_simplified_results.tsv\"), sep = \"\\t\", quote = FALSE, row.names = FALSE)\n",
    "  write.table(kegg_result@result, file = paste0(output_dir, \"kegg_results.tsv\"), sep = \"\\t\", quote = FALSE, row.names = FALSE)\n",
    "}\n",
    "\n",
    "# Function to generate enrichment plot\n",
    "ea_plot <- function(df, y_ax_limit=100, title = \"\", top = 15, label_size = 16, qval_thresh = 0.05, type_filter = \"\") {\n",
    "  print(colnames(df))\n",
    "\n",
    "  df <- df %>%\n",
    "    dplyr::filter(qvalue < qval_thresh) %>%\n",
    "    {if (type_filter != \"\") dplyr::filter(., str_detect(Description, type_filter)) else . } %>%\n",
    "    dplyr::top_n(n = -top, wt = qvalue) %>%\n",
    "    dplyr::arrange(-log10(qvalue)) %>%\n",
    "    dplyr::mutate(type_fact = factor(Description, levels = unique(Description)))  # Use unique() to remove duplicates\n",
    "\n",
    "  ggplot(df) +\n",
    "    geom_bar(aes(x = type_fact, y = -log10(qvalue)), stat = \"identity\") +\n",
    "    theme_classic() +\n",
    "    theme(\n",
    "      text = element_text(size = 13, family = \"ArialMT\"),\n",
    "      axis.title.y = element_blank(),\n",
    "      axis.ticks.y = element_blank(),\n",
    "      axis.text.x = element_text(color = \"#4d4d4d\"),\n",
    "      axis.text.y = element_text(color = \"#4d4d4d\"),\n",
    "      axis.line = element_line(size = 0.8, color = \"black\"),\n",
    "      axis.ticks = element_line(size = 0.8),\n",
    "      axis.ticks.length = unit(0.15, \"cm\"),\n",
    "    ) +\n",
    "    labs(y = bquote(paste(-log[10], italic(q), \"-value\"))) +\n",
    "    coord_flip() +\n",
    "    scale_y_continuous(limits = c(0, y_ax_limit))\n",
    "}\n",
    "\n",
    "create_barplots <- function(folder_name, h, w) {\n",
    "  # Read the GO and KEGG results\n",
    "  go_results <- read_tsv(paste0(folder_name, \"/go_results.tsv\"))\n",
    "  go_simplified_results <- read_tsv(paste0(folder_name, \"/go_simplified_results.tsv\"))\n",
    "  kegg_results <- read_tsv(paste0(folder_name, \"/kegg_results.tsv\"))\n",
    "\n",
    "  # Generate and save the plots\n",
    "  go_plot <- ea_plot(go_results, y_ax_limit=150, top = 15)\n",
    "  ggsave(paste0(folder_name, \"/go_plot.png\"), go_plot, height = h, width = w, dpi = 320)\n",
    "\n",
    "  go_simplified_plot <- ea_plot(go_simplified_results, y_ax_limit=150, top = 15)\n",
    "  ggsave(paste0(folder_name, \"/go_simplified_plot.png\"), go_simplified_plot, height = h, width = w, dpi = 320)\n",
    "\n",
    "  kegg_plot <- ea_plot(kegg_results, y_ax_limit=20, top = 15)\n",
    "  ggsave(paste0(folder_name, \"/kegg_plot.png\"), kegg_plot, height = h, width = w*1.25, dpi = 320)\n",
    "}"
   ]
  },
  {
   "cell_type": "code",
   "execution_count": 5,
   "metadata": {
    "vscode": {
     "languageId": "r"
    }
   },
   "outputs": [
    {
     "name": "stderr",
     "output_type": "stream",
     "text": [
      "'select()' returned 1:1 mapping between keys and columns\n",
      "\n",
      "Reading KEGG annotation online: \"https://rest.kegg.jp/link/hsa/pathway\"...\n",
      "\n",
      "Reading KEGG annotation online: \"https://rest.kegg.jp/list/pathway/hsa\"...\n",
      "\n",
      "'select()' returned 1:1 mapping between keys and columns\n",
      "\n"
     ]
    }
   ],
   "source": [
    "# Run the enrichment analysis\n",
    "get_enriched_pathways(input_dir, output_dir)\n",
    "get_enriched_pathways(stage_significant_input_dir, stage_significant_output_dir)"
   ]
  },
  {
   "cell_type": "code",
   "execution_count": 6,
   "metadata": {
    "vscode": {
     "languageId": "r"
    }
   },
   "outputs": [
    {
     "name": "stderr",
     "output_type": "stream",
     "text": [
      "\u001b[1mRows: \u001b[22m\u001b[34m954\u001b[39m \u001b[1mColumns: \u001b[22m\u001b[34m10\u001b[39m\n",
      "\u001b[36m──\u001b[39m \u001b[1mColumn specification\u001b[22m \u001b[36m────────────────────────────────────────────────────────\u001b[39m\n",
      "\u001b[1mDelimiter:\u001b[22m \"\\t\"\n",
      "\u001b[31mchr\u001b[39m (6): ONTOLOGY, ID, Description, GeneRatio, BgRatio, geneID\n",
      "\u001b[32mdbl\u001b[39m (4): pvalue, p.adjust, qvalue, Count\n",
      "\n",
      "\u001b[36mℹ\u001b[39m Use `spec()` to retrieve the full column specification for this data.\n",
      "\u001b[36mℹ\u001b[39m Specify the column types or set `show_col_types = FALSE` to quiet this message.\n",
      "\u001b[1mRows: \u001b[22m\u001b[34m311\u001b[39m \u001b[1mColumns: \u001b[22m\u001b[34m10\u001b[39m\n",
      "\u001b[36m──\u001b[39m \u001b[1mColumn specification\u001b[22m \u001b[36m────────────────────────────────────────────────────────\u001b[39m\n",
      "\u001b[1mDelimiter:\u001b[22m \"\\t\"\n",
      "\u001b[31mchr\u001b[39m (6): ONTOLOGY, ID, Description, GeneRatio, BgRatio, geneID\n",
      "\u001b[32mdbl\u001b[39m (4): pvalue, p.adjust, qvalue, Count\n",
      "\n",
      "\u001b[36mℹ\u001b[39m Use `spec()` to retrieve the full column specification for this data.\n",
      "\u001b[36mℹ\u001b[39m Specify the column types or set `show_col_types = FALSE` to quiet this message.\n",
      "\u001b[1mRows: \u001b[22m\u001b[34m159\u001b[39m \u001b[1mColumns: \u001b[22m\u001b[34m9\u001b[39m\n",
      "\u001b[36m──\u001b[39m \u001b[1mColumn specification\u001b[22m \u001b[36m────────────────────────────────────────────────────────\u001b[39m\n",
      "\u001b[1mDelimiter:\u001b[22m \"\\t\"\n",
      "\u001b[31mchr\u001b[39m (5): ID, Description, GeneRatio, BgRatio, geneID\n",
      "\u001b[32mdbl\u001b[39m (4): pvalue, p.adjust, qvalue, Count\n",
      "\n",
      "\u001b[36mℹ\u001b[39m Use `spec()` to retrieve the full column specification for this data.\n",
      "\u001b[36mℹ\u001b[39m Specify the column types or set `show_col_types = FALSE` to quiet this message.\n"
     ]
    },
    {
     "name": "stdout",
     "output_type": "stream",
     "text": [
      " [1] \"ONTOLOGY\"    \"ID\"          \"Description\" \"GeneRatio\"   \"BgRatio\"    \n",
      " [6] \"pvalue\"      \"p.adjust\"    \"qvalue\"      \"geneID\"      \"Count\"      \n"
     ]
    },
    {
     "name": "stderr",
     "output_type": "stream",
     "text": [
      "Warning message:\n",
      "“\u001b[1m\u001b[22mThe `size` argument of `element_line()` is deprecated as of ggplot2 3.4.0.\n",
      "\u001b[36mℹ\u001b[39m Please use the `linewidth` argument instead.”\n"
     ]
    },
    {
     "name": "stdout",
     "output_type": "stream",
     "text": [
      " [1] \"ONTOLOGY\"    \"ID\"          \"Description\" \"GeneRatio\"   \"BgRatio\"    \n",
      " [6] \"pvalue\"      \"p.adjust\"    \"qvalue\"      \"geneID\"      \"Count\"      \n",
      "[1] \"ID\"          \"Description\" \"GeneRatio\"   \"BgRatio\"     \"pvalue\"     \n",
      "[6] \"p.adjust\"    \"qvalue\"      \"geneID\"      \"Count\"      \n"
     ]
    },
    {
     "name": "stderr",
     "output_type": "stream",
     "text": [
      "\u001b[1mRows: \u001b[22m\u001b[34m943\u001b[39m \u001b[1mColumns: \u001b[22m\u001b[34m10\u001b[39m\n",
      "\u001b[36m──\u001b[39m \u001b[1mColumn specification\u001b[22m \u001b[36m────────────────────────────────────────────────────────\u001b[39m\n",
      "\u001b[1mDelimiter:\u001b[22m \"\\t\"\n",
      "\u001b[31mchr\u001b[39m (6): ONTOLOGY, ID, Description, GeneRatio, BgRatio, geneID\n",
      "\u001b[32mdbl\u001b[39m (4): pvalue, p.adjust, qvalue, Count\n",
      "\n",
      "\u001b[36mℹ\u001b[39m Use `spec()` to retrieve the full column specification for this data.\n",
      "\u001b[36mℹ\u001b[39m Specify the column types or set `show_col_types = FALSE` to quiet this message.\n",
      "\u001b[1mRows: \u001b[22m\u001b[34m311\u001b[39m \u001b[1mColumns: \u001b[22m\u001b[34m10\u001b[39m\n",
      "\u001b[36m──\u001b[39m \u001b[1mColumn specification\u001b[22m \u001b[36m────────────────────────────────────────────────────────\u001b[39m\n",
      "\u001b[1mDelimiter:\u001b[22m \"\\t\"\n",
      "\u001b[31mchr\u001b[39m (6): ONTOLOGY, ID, Description, GeneRatio, BgRatio, geneID\n",
      "\u001b[32mdbl\u001b[39m (4): pvalue, p.adjust, qvalue, Count\n",
      "\n",
      "\u001b[36mℹ\u001b[39m Use `spec()` to retrieve the full column specification for this data.\n",
      "\u001b[36mℹ\u001b[39m Specify the column types or set `show_col_types = FALSE` to quiet this message.\n",
      "\u001b[1mRows: \u001b[22m\u001b[34m157\u001b[39m \u001b[1mColumns: \u001b[22m\u001b[34m9\u001b[39m\n",
      "\u001b[36m──\u001b[39m \u001b[1mColumn specification\u001b[22m \u001b[36m────────────────────────────────────────────────────────\u001b[39m\n",
      "\u001b[1mDelimiter:\u001b[22m \"\\t\"\n",
      "\u001b[31mchr\u001b[39m (5): ID, Description, GeneRatio, BgRatio, geneID\n",
      "\u001b[32mdbl\u001b[39m (4): pvalue, p.adjust, qvalue, Count\n",
      "\n",
      "\u001b[36mℹ\u001b[39m Use `spec()` to retrieve the full column specification for this data.\n",
      "\u001b[36mℹ\u001b[39m Specify the column types or set `show_col_types = FALSE` to quiet this message.\n"
     ]
    },
    {
     "name": "stdout",
     "output_type": "stream",
     "text": [
      " [1] \"ONTOLOGY\"    \"ID\"          \"Description\" \"GeneRatio\"   \"BgRatio\"    \n",
      " [6] \"pvalue\"      \"p.adjust\"    \"qvalue\"      \"geneID\"      \"Count\"      \n",
      " [1] \"ONTOLOGY\"    \"ID\"          \"Description\" \"GeneRatio\"   \"BgRatio\"    \n",
      " [6] \"pvalue\"      \"p.adjust\"    \"qvalue\"      \"geneID\"      \"Count\"      \n",
      "[1] \"ID\"          \"Description\" \"GeneRatio\"   \"BgRatio\"     \"pvalue\"     \n",
      "[6] \"p.adjust\"    \"qvalue\"      \"geneID\"      \"Count\"      \n"
     ]
    }
   ],
   "source": [
    "# Create barplots of the top 15 enriched pathways\n",
    "create_barplots(output_dir, 4.5, 4.5)\n",
    "create_barplots(stage_significant_output_dir, 4.5, 4.5)"
   ]
  },
  {
   "cell_type": "code",
   "execution_count": null,
   "metadata": {
    "vscode": {
     "languageId": "r"
    }
   },
   "outputs": [],
   "source": [
    "# Read the expression data and the clinical data\n",
    "expr_data <- read.table(\"../data/all/all_phases_all_matrisome_counts.tsv\", header = TRUE, row.names = 1, sep = \"\\t\")\n",
    "clinical_data <- read.table(\"../data_prep/metadata/stagewise_coldata.tsv\", header = TRUE, sep = \"\\t\")\n",
    "\n",
    "# Transpose expr_data to get samples in rows and genes in columns\n",
    "expr_data <- t(expr_data)\n",
    "\n",
    "# Merge the expression data and the clinical data\n",
    "data <- merge(clinical_data, expr_data, by = \"row.names\", all = TRUE)\n",
    "rownames(data) <- data$Row.names\n",
    "data$Row.names <- NULL\n",
    "\n",
    "# Get the list of all genes used in the enrichment analysis\n",
    "all_genes <- get_all_genes_from_pathways(go_results, kegg_results)\n",
    "\n",
    "# Calculate ANOVA for each gene\n",
    "anova_results <- sapply(all_genes, function(gene) {\n",
    "  if (gene %in% colnames(data)) {\n",
    "    fit <- aov(as.formula(paste(gene, \"~ phase\")), data = data)\n",
    "    summary(fit)[[1]][[\"Pr(>F)\"]]  # Extract the p-value\n",
    "  } else {\n",
    "    NA  # Return NA for genes not present in the expression data\n",
    "  }\n",
    "})\n",
    "\n",
    "# Identify genes with significant differences\n",
    "sig_genes <- names(anova_results)[anova_results < 0.05]\n",
    "\n",
    "# Plot these genes\n",
    "for (gene in sig_genes) {\n",
    "  plot_gene_expression(data[,c(\"phase\", gene)])  # You need to implement plot_gene_expression\n",
    "}\n"
   ]
  }
 ],
 "metadata": {
  "kernelspec": {
   "display_name": "R",
   "language": "R",
   "name": "ir"
  },
  "language_info": {
   "codemirror_mode": "r",
   "file_extension": ".r",
   "mimetype": "text/x-r-source",
   "name": "R",
   "pygments_lexer": "r",
   "version": "4.2.2"
  },
  "orig_nbformat": 4
 },
 "nbformat": 4,
 "nbformat_minor": 2
}
