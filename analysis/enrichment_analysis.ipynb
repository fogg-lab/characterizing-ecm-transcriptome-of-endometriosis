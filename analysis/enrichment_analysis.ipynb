{
 "cells": [
  {
   "cell_type": "code",
   "execution_count": 1,
   "metadata": {
    "vscode": {
     "languageId": "r"
    }
   },
   "outputs": [
    {
     "name": "stderr",
     "output_type": "stream",
     "text": [
      "\n",
      "\n",
      "clusterProfiler v4.6.2  For help: https://yulab-smu.top/biomedical-knowledge-mining-book/\n",
      "\n",
      "If you use clusterProfiler in published research, please cite:\n",
      "T Wu, E Hu, S Xu, M Chen, P Guo, Z Dai, T Feng, L Zhou, W Tang, L Zhan, X Fu, S Liu, X Bo, and G Yu. clusterProfiler 4.0: A universal enrichment tool for interpreting omics data. The Innovation. 2021, 2(3):100141\n",
      "\n",
      "\n",
      "Attaching package: ‘clusterProfiler’\n",
      "\n",
      "\n",
      "The following object is masked from ‘package:stats’:\n",
      "\n",
      "    filter\n",
      "\n",
      "\n",
      "Loading required package: AnnotationDbi\n",
      "\n",
      "Loading required package: stats4\n",
      "\n",
      "Loading required package: BiocGenerics\n",
      "\n",
      "\n",
      "Attaching package: ‘BiocGenerics’\n",
      "\n",
      "\n",
      "The following objects are masked from ‘package:stats’:\n",
      "\n",
      "    IQR, mad, sd, var, xtabs\n",
      "\n",
      "\n",
      "The following objects are masked from ‘package:base’:\n",
      "\n",
      "    anyDuplicated, aperm, append, as.data.frame, basename, cbind,\n",
      "    colnames, dirname, do.call, duplicated, eval, evalq, Filter, Find,\n",
      "    get, grep, grepl, intersect, is.unsorted, lapply, Map, mapply,\n",
      "    match, mget, order, paste, pmax, pmax.int, pmin, pmin.int,\n",
      "    Position, rank, rbind, Reduce, rownames, sapply, setdiff, sort,\n",
      "    table, tapply, union, unique, unsplit, which.max, which.min\n",
      "\n",
      "\n",
      "Loading required package: Biobase\n",
      "\n",
      "Welcome to Bioconductor\n",
      "\n",
      "    Vignettes contain introductory material; view with\n",
      "    'browseVignettes()'. To cite Bioconductor, see\n",
      "    'citation(\"Biobase\")', and for packages 'citation(\"pkgname\")'.\n",
      "\n",
      "\n",
      "Loading required package: IRanges\n",
      "\n",
      "Loading required package: S4Vectors\n",
      "\n",
      "\n",
      "Attaching package: ‘S4Vectors’\n",
      "\n",
      "\n",
      "The following object is masked from ‘package:clusterProfiler’:\n",
      "\n",
      "    rename\n",
      "\n",
      "\n",
      "The following objects are masked from ‘package:base’:\n",
      "\n",
      "    expand.grid, I, unname\n",
      "\n",
      "\n",
      "\n",
      "Attaching package: ‘IRanges’\n",
      "\n",
      "\n",
      "The following object is masked from ‘package:clusterProfiler’:\n",
      "\n",
      "    slice\n",
      "\n",
      "\n",
      "\n",
      "Attaching package: ‘AnnotationDbi’\n",
      "\n",
      "\n",
      "The following object is masked from ‘package:clusterProfiler’:\n",
      "\n",
      "    select\n",
      "\n",
      "\n",
      "\n",
      "\n"
     ]
    }
   ],
   "source": [
    "library(clusterProfiler)\n",
    "library(org.Hs.eg.db)\n",
    "library(ggplot2)\n",
    "library(readr)"
   ]
  },
  {
   "cell_type": "code",
   "execution_count": 2,
   "metadata": {
    "vscode": {
     "languageId": "r"
    }
   },
   "outputs": [],
   "source": [
    "input_base_dir = \"../DEMGs/\"\n",
    "input_dir = paste0(input_base_dir, \"demgs/\")\n",
    "stage_significant_input_dir = paste0(input_base_dir, \"stage_significant_demgs/\")\n",
    "\n",
    "output_base_dir <- \"../enrichment_analysis/\"\n",
    "output_dir <- paste0(output_base_dir, \"results/\")\n",
    "stage_significant_output_dir <- paste0(output_base_dir, \"stage_significant_results/\")"
   ]
  },
  {
   "cell_type": "code",
   "execution_count": 3,
   "metadata": {
    "vscode": {
     "languageId": "r"
    }
   },
   "outputs": [],
   "source": [
    "# Create output directories if they don't exist\n",
    "\n",
    "if (!dir.exists(output_base_dir)) {\n",
    "    dir.create(output_base_dir)\n",
    "}\n",
    "\n",
    "if (!dir.exists(output_dir)) {\n",
    "    dir.create(output_dir)\n",
    "}\n",
    "\n",
    "if (!dir.exists(stage_significant_output_dir)) {\n",
    "    dir.create(stage_significant_output_dir)\n",
    "}"
   ]
  },
  {
   "cell_type": "code",
   "execution_count": 4,
   "metadata": {
    "vscode": {
     "languageId": "r"
    }
   },
   "outputs": [],
   "source": [
    "get_enriched_pathways <- function(input_dir, output_dir) {\n",
    "  gene_list_fp <- paste0(input_dir, \"union_demg.txt\")\n",
    "  gene_list <- scan(gene_list_fp, what = \"\", sep = \"\\n\")\n",
    "\n",
    "  # Map the gene symbols to Entrez IDs\n",
    "  genes_entrez <- bitr(gene_list, fromType = \"SYMBOL\", toType = \"ENTREZID\", OrgDb = org.Hs.eg.db)\n",
    "  genes_entrez <- genes_entrez[!is.na(genes_entrez$ENTREZID),]\n",
    "\n",
    "  # Perform the enrichment analysis for GO\n",
    "  ego <- enrichGO(gene = genes_entrez$ENTREZID,\n",
    "                  OrgDb = org.Hs.eg.db,\n",
    "                  keyType = 'ENTREZID',\n",
    "                  ont = \"ALL\",\n",
    "                  pAdjustMethod = \"BH\",\n",
    "                  qvalueCutoff = 0.05,\n",
    "                  readable = TRUE)\n",
    "\n",
    "  # Perform the enrichment analysis for KEGG\n",
    "  kegg_result <- enrichKEGG(gene = genes_entrez$ENTREZID,\n",
    "                            organism = 'hsa',\n",
    "                            keyType = 'kegg', \n",
    "                            pAdjustMethod = \"BH\",\n",
    "                            qvalueCutoff = 0.05)\n",
    "\n",
    "  # Simplify the GO results and write to file\n",
    "  ego_simplified <- simplify(ego, cutoff=0.7, by=\"p.adjust\", select_fun=min)\n",
    "  write.table(ego@result, file = paste0(output_dir, \"go_results.tsv\"), sep = \"\\t\", quote = FALSE, row.names = FALSE)\n",
    "  write.table(ego_simplified@result, file = paste0(output_dir, \"go_simplified_results.tsv\"), sep = \"\\t\", quote = FALSE, row.names = FALSE)\n",
    "  write.table(kegg_result@result, file = paste0(output_dir, \"kegg_results.tsv\"), sep = \"\\t\", quote = FALSE, row.names = FALSE)\n",
    "}\n",
    "\n",
    "# Function to generate enrichment plot\n",
    "ea_plot <- function(df, y_ax_limit=100, title = \"\", top = 15, label_size = 16, qval_thresh = 0.05, type_filter = \"\") {\n",
    "  print(colnames(df))  # Add this line to print column names\n",
    "  \n",
    "  df <- df %>%\n",
    "    dplyr::filter(qvalue < qval_thresh) %>%\n",
    "    {if (type_filter != \"\") dplyr::filter(., str_detect(Description, type_filter)) else . } %>%\n",
    "    dplyr::top_n(n = -top, wt = qvalue) %>%\n",
    "    dplyr::arrange(-log10(qvalue)) %>%\n",
    "    dplyr::mutate(type_fact = factor(Description, levels = unique(Description)))  # Use unique() to remove duplicates\n",
    "  \n",
    "  ggplot(df) +\n",
    "    geom_bar(aes(x = type_fact, y = -log10(qvalue)), stat = \"identity\") +\n",
    "    theme_classic() +\n",
    "    theme(\n",
    "      text = element_text(size = 12, family = \"ArialMT\"),\n",
    "      axis.title.y = element_blank(),\n",
    "      axis.ticks.y = element_blank(),\n",
    "      axis.text.x = element_text(color = \"#333333\"),  # Make axis labels darker\n",
    "      axis.text.y = element_text(color = \"#333333\"),  # Make axis labels darker\n",
    "      axis.line = element_line(size = 0.8, color = \"black\"),  # Increase size for thicker lines\n",
    "      axis.ticks = element_line(size = 0.8),  # Increase size for thicker ticks\n",
    "      axis.ticks.length = unit(0.2, \"cm\"),  # Increase size for longer ticks\n",
    "    ) +\n",
    "    labs(y = bquote(paste(-log[10], italic(q), \"-value\"))) +\n",
    "    coord_flip() +\n",
    "    scale_y_continuous(limits = c(0, y_ax_limit))  # Set the range of the x-axis (which is originally the y-axis)\n",
    "}\n",
    "\n",
    "create_barplots <- function(folder_name, h, w) {\n",
    "  # Read the GO and KEGG results\n",
    "  go_results <- read_tsv(paste0(folder_name, \"/go_results.tsv\"))\n",
    "  go_simplified_results <- read_tsv(paste0(folder_name, \"/go_simplified_results.tsv\"))\n",
    "  kegg_results <- read_tsv(paste0(folder_name, \"/kegg_results.tsv\"))\n",
    "\n",
    "  # Generate and save the plots\n",
    "  go_plot <- ea_plot(go_results, y_ax_limit=150, top = 15)\n",
    "  ggsave(paste0(folder_name, \"/go_plot.png\"), go_plot, height = h, width = w, dpi = 320)\n",
    "\n",
    "  go_simplified_plot <- ea_plot(go_simplified_results, y_ax_limit=150, top = 15)\n",
    "  ggsave(paste0(folder_name, \"/go_simplified_plot.png\"), go_simplified_plot, height = h, width = w, dpi = 320)\n",
    "\n",
    "  kegg_plot <- ea_plot(kegg_results, y_ax_limit=15, top = 15)\n",
    "  ggsave(paste0(folder_name, \"/kegg_plot.png\"), kegg_plot, height = h, width = w, dpi = 320)\n",
    "}"
   ]
  },
  {
   "cell_type": "code",
   "execution_count": 5,
   "metadata": {
    "vscode": {
     "languageId": "r"
    }
   },
   "outputs": [
    {
     "name": "stderr",
     "output_type": "stream",
     "text": [
      "'select()' returned 1:1 mapping between keys and columns\n",
      "\n",
      "Reading KEGG annotation online: \"https://rest.kegg.jp/link/hsa/pathway\"...\n",
      "\n",
      "Reading KEGG annotation online: \"https://rest.kegg.jp/list/pathway/hsa\"...\n",
      "\n",
      "'select()' returned 1:1 mapping between keys and columns\n",
      "\n"
     ]
    }
   ],
   "source": [
    "get_enriched_pathways(input_dir, output_dir)\n",
    "get_enriched_pathways(stage_significant_input_dir, stage_significant_output_dir)"
   ]
  },
  {
   "cell_type": "code",
   "execution_count": 6,
   "metadata": {
    "vscode": {
     "languageId": "r"
    }
   },
   "outputs": [
    {
     "name": "stderr",
     "output_type": "stream",
     "text": [
      "\u001b[1mRows: \u001b[22m\u001b[34m954\u001b[39m \u001b[1mColumns: \u001b[22m\u001b[34m10\u001b[39m\n",
      "\u001b[36m──\u001b[39m \u001b[1mColumn specification\u001b[22m \u001b[36m────────────────────────────────────────────────────────\u001b[39m\n",
      "\u001b[1mDelimiter:\u001b[22m \"\\t\"\n",
      "\u001b[31mchr\u001b[39m (6): ONTOLOGY, ID, Description, GeneRatio, BgRatio, geneID\n",
      "\u001b[32mdbl\u001b[39m (4): pvalue, p.adjust, qvalue, Count\n",
      "\n",
      "\u001b[36mℹ\u001b[39m Use `spec()` to retrieve the full column specification for this data.\n",
      "\u001b[36mℹ\u001b[39m Specify the column types or set `show_col_types = FALSE` to quiet this message.\n",
      "\u001b[1mRows: \u001b[22m\u001b[34m311\u001b[39m \u001b[1mColumns: \u001b[22m\u001b[34m10\u001b[39m\n",
      "\u001b[36m──\u001b[39m \u001b[1mColumn specification\u001b[22m \u001b[36m────────────────────────────────────────────────────────\u001b[39m\n",
      "\u001b[1mDelimiter:\u001b[22m \"\\t\"\n",
      "\u001b[31mchr\u001b[39m (6): ONTOLOGY, ID, Description, GeneRatio, BgRatio, geneID\n",
      "\u001b[32mdbl\u001b[39m (4): pvalue, p.adjust, qvalue, Count\n",
      "\n",
      "\u001b[36mℹ\u001b[39m Use `spec()` to retrieve the full column specification for this data.\n",
      "\u001b[36mℹ\u001b[39m Specify the column types or set `show_col_types = FALSE` to quiet this message.\n",
      "\u001b[1mRows: \u001b[22m\u001b[34m159\u001b[39m \u001b[1mColumns: \u001b[22m\u001b[34m9\u001b[39m\n",
      "\u001b[36m──\u001b[39m \u001b[1mColumn specification\u001b[22m \u001b[36m────────────────────────────────────────────────────────\u001b[39m\n",
      "\u001b[1mDelimiter:\u001b[22m \"\\t\"\n",
      "\u001b[31mchr\u001b[39m (5): ID, Description, GeneRatio, BgRatio, geneID\n",
      "\u001b[32mdbl\u001b[39m (4): pvalue, p.adjust, qvalue, Count\n",
      "\n",
      "\u001b[36mℹ\u001b[39m Use `spec()` to retrieve the full column specification for this data.\n",
      "\u001b[36mℹ\u001b[39m Specify the column types or set `show_col_types = FALSE` to quiet this message.\n"
     ]
    },
    {
     "name": "stdout",
     "output_type": "stream",
     "text": [
      " [1] \"ONTOLOGY\"    \"ID\"          \"Description\" \"GeneRatio\"   \"BgRatio\"    \n",
      " [6] \"pvalue\"      \"p.adjust\"    \"qvalue\"      \"geneID\"      \"Count\"      \n"
     ]
    },
    {
     "name": "stderr",
     "output_type": "stream",
     "text": [
      "Warning message:\n",
      "“\u001b[1m\u001b[22mThe `size` argument of `element_line()` is deprecated as of ggplot2 3.4.0.\n",
      "\u001b[36mℹ\u001b[39m Please use the `linewidth` argument instead.”\n"
     ]
    },
    {
     "name": "stdout",
     "output_type": "stream",
     "text": [
      " [1] \"ONTOLOGY\"    \"ID\"          \"Description\" \"GeneRatio\"   \"BgRatio\"    \n",
      " [6] \"pvalue\"      \"p.adjust\"    \"qvalue\"      \"geneID\"      \"Count\"      \n",
      "[1] \"ID\"          \"Description\" \"GeneRatio\"   \"BgRatio\"     \"pvalue\"     \n",
      "[6] \"p.adjust\"    \"qvalue\"      \"geneID\"      \"Count\"      \n"
     ]
    },
    {
     "name": "stderr",
     "output_type": "stream",
     "text": [
      "Warning message:\n",
      "“\u001b[1m\u001b[22mRemoved 1 rows containing missing values (`position_stack()`).”\n",
      "\u001b[1mRows: \u001b[22m\u001b[34m943\u001b[39m \u001b[1mColumns: \u001b[22m\u001b[34m10\u001b[39m\n",
      "\u001b[36m──\u001b[39m \u001b[1mColumn specification\u001b[22m \u001b[36m────────────────────────────────────────────────────────\u001b[39m\n",
      "\u001b[1mDelimiter:\u001b[22m \"\\t\"\n",
      "\u001b[31mchr\u001b[39m (6): ONTOLOGY, ID, Description, GeneRatio, BgRatio, geneID\n",
      "\u001b[32mdbl\u001b[39m (4): pvalue, p.adjust, qvalue, Count\n",
      "\n",
      "\u001b[36mℹ\u001b[39m Use `spec()` to retrieve the full column specification for this data.\n",
      "\u001b[36mℹ\u001b[39m Specify the column types or set `show_col_types = FALSE` to quiet this message.\n",
      "\u001b[1mRows: \u001b[22m\u001b[34m311\u001b[39m \u001b[1mColumns: \u001b[22m\u001b[34m10\u001b[39m\n",
      "\u001b[36m──\u001b[39m \u001b[1mColumn specification\u001b[22m \u001b[36m────────────────────────────────────────────────────────\u001b[39m\n",
      "\u001b[1mDelimiter:\u001b[22m \"\\t\"\n",
      "\u001b[31mchr\u001b[39m (6): ONTOLOGY, ID, Description, GeneRatio, BgRatio, geneID\n",
      "\u001b[32mdbl\u001b[39m (4): pvalue, p.adjust, qvalue, Count\n",
      "\n",
      "\u001b[36mℹ\u001b[39m Use `spec()` to retrieve the full column specification for this data.\n",
      "\u001b[36mℹ\u001b[39m Specify the column types or set `show_col_types = FALSE` to quiet this message.\n",
      "\u001b[1mRows: \u001b[22m\u001b[34m157\u001b[39m \u001b[1mColumns: \u001b[22m\u001b[34m9\u001b[39m\n",
      "\u001b[36m──\u001b[39m \u001b[1mColumn specification\u001b[22m \u001b[36m────────────────────────────────────────────────────────\u001b[39m\n",
      "\u001b[1mDelimiter:\u001b[22m \"\\t\"\n",
      "\u001b[31mchr\u001b[39m (5): ID, Description, GeneRatio, BgRatio, geneID\n",
      "\u001b[32mdbl\u001b[39m (4): pvalue, p.adjust, qvalue, Count\n",
      "\n",
      "\u001b[36mℹ\u001b[39m Use `spec()` to retrieve the full column specification for this data.\n",
      "\u001b[36mℹ\u001b[39m Specify the column types or set `show_col_types = FALSE` to quiet this message.\n"
     ]
    },
    {
     "name": "stdout",
     "output_type": "stream",
     "text": [
      " [1] \"ONTOLOGY\"    \"ID\"          \"Description\" \"GeneRatio\"   \"BgRatio\"    \n",
      " [6] \"pvalue\"      \"p.adjust\"    \"qvalue\"      \"geneID\"      \"Count\"      \n",
      " [1] \"ONTOLOGY\"    \"ID\"          \"Description\" \"GeneRatio\"   \"BgRatio\"    \n",
      " [6] \"pvalue\"      \"p.adjust\"    \"qvalue\"      \"geneID\"      \"Count\"      \n",
      "[1] \"ID\"          \"Description\" \"GeneRatio\"   \"BgRatio\"     \"pvalue\"     \n",
      "[6] \"p.adjust\"    \"qvalue\"      \"geneID\"      \"Count\"      \n"
     ]
    }
   ],
   "source": [
    "create_barplots(output_dir, 5, 4.5)\n",
    "create_barplots(stage_significant_output_dir, 5, 4.5)"
   ]
  },
  {
   "cell_type": "code",
   "execution_count": null,
   "metadata": {
    "vscode": {
     "languageId": "r"
    }
   },
   "outputs": [],
   "source": []
  }
 ],
 "metadata": {
  "kernelspec": {
   "display_name": "R",
   "language": "R",
   "name": "ir"
  },
  "language_info": {
   "codemirror_mode": "r",
   "file_extension": ".r",
   "mimetype": "text/x-r-source",
   "name": "R",
   "pygments_lexer": "r",
   "version": "4.2.2"
  },
  "orig_nbformat": 4
 },
 "nbformat": 4,
 "nbformat_minor": 2
}
