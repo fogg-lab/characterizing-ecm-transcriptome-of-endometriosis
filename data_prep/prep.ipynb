{
 "cells": [
  {
   "cell_type": "code",
   "execution_count": 1,
   "metadata": {},
   "outputs": [],
   "source": [
    "from pathlib import Path\n",
    "import subprocess\n",
    "import json\n",
    "\n",
    "from IPython import get_ipython\n",
    "import pandas as pd\n",
    "\n",
    "import data_preprocessing as prep"
   ]
  },
  {
   "cell_type": "code",
   "execution_count": 2,
   "metadata": {},
   "outputs": [],
   "source": [
    "# Paths\n",
    "\n",
    "DATA_PREP_DIR = Path(get_ipython().getoutput(\"pwd\")[0])\n",
    "BASE_DIR = DATA_PREP_DIR.parent\n",
    "METADATA_DIR = DATA_PREP_DIR / \"metadata\"\n",
    "ANALYSIS_DIR = BASE_DIR / \"analysis\"\n",
    "DATA_URLS_PATH = METADATA_DIR / \"geo_data_urls.json\"\n",
    "DATA_DIR = BASE_DIR / \"data\"\n",
    "CELFILE_DIR = DATA_DIR / \"cel_files\""
   ]
  },
  {
   "cell_type": "code",
   "execution_count": 3,
   "metadata": {},
   "outputs": [
    {
     "name": "stdout",
     "output_type": "stream",
     "text": [
      "--------------------------------------------------------------------------------\n",
      "Data prep directory: /media/data/lab/gene/characterizing-endometriosis-transcriptome/data_prep\n",
      "Directory.\n",
      "--------------------------------------------------------------------------------\n",
      "Base directory: /media/data/lab/gene/characterizing-endometriosis-transcriptome\n",
      "Directory.\n",
      "--------------------------------------------------------------------------------\n",
      "Data URLs: /media/data/lab/gene/characterizing-endometriosis-transcriptome/data_prep/metadata/geo_data_urls.json\n",
      "File.\n",
      "--------------------------------------------------------------------------------\n",
      "Metadata directory: /media/data/lab/gene/characterizing-endometriosis-transcriptome/data_prep/metadata\n",
      "Directory.\n",
      "--------------------------------------------------------------------------------\n",
      "Data directory: /media/data/lab/gene/characterizing-endometriosis-transcriptome/data\n",
      "Directory.\n",
      "--------------------------------------------------------------------------------\n",
      "CEL file directory: /media/data/lab/gene/characterizing-endometriosis-transcriptome/data/cel_files\n",
      "Directory.\n"
     ]
    }
   ],
   "source": [
    "# Print out data paths for sanity check\n",
    "\n",
    "for name, path in {\n",
    "    \"Data prep directory\": DATA_PREP_DIR,\n",
    "    \"Base directory\": BASE_DIR,\n",
    "    \"Data URLs\": DATA_URLS_PATH,\n",
    "    \"Metadata directory\": METADATA_DIR,\n",
    "    \"Data directory\": DATA_DIR,\n",
    "    \"CEL file directory\": CELFILE_DIR\n",
    "}.items():\n",
    "    print('-'*80)\n",
    "    print(f\"{name}: {path}\")\n",
    "    if path.is_dir():\n",
    "        print(\"Directory.\")\n",
    "    elif path.is_file():\n",
    "        print(\"File.\")\n",
    "    else:\n",
    "        print(\"Not found.\")"
   ]
  },
  {
   "cell_type": "code",
   "execution_count": 4,
   "metadata": {},
   "outputs": [
    {
     "name": "stdout",
     "output_type": "stream",
     "text": [
      "Downloading file from: https://www.ncbi.nlm.nih.gov/geo/download/?acc=GSE4888&format=file\n",
      "Untarring and unzipping file at: /media/data/lab/gene/characterizing-endometriosis-transcriptome/data/cel_files/GSE4888.tar\n",
      "Downloading file from: https://www.ncbi.nlm.nih.gov/geo/download/?acc=GSE6364&format=file\n",
      "Untarring and unzipping file at: /media/data/lab/gene/characterizing-endometriosis-transcriptome/data/cel_files/GSE6364.tar\n",
      "Downloading file from: https://www.ncbi.nlm.nih.gov/geo/download/?acc=GSE51981&format=file\n",
      "Untarring and unzipping file at: /media/data/lab/gene/characterizing-endometriosis-transcriptome/data/cel_files/GSE51981.tar\n",
      "Downloading file from: https://www.ncbi.nlm.nih.gov/geo/download/?acc=GSE29981&format=file\n",
      "Untarring and unzipping file at: /media/data/lab/gene/characterizing-endometriosis-transcriptome/data/cel_files/GSE29981.tar\n",
      "All files downloaded and extracted successfully.\n"
     ]
    }
   ],
   "source": [
    "# Download GEO data\n",
    "\n",
    "# Create CEL file dir if it doesn't exist\n",
    "CELFILE_DIR.mkdir(parents=True, exist_ok=True)\n",
    "\n",
    "# Open JSON file with data urls\n",
    "with open(DATA_URLS_PATH, \"r\") as json_file:\n",
    "    data = json.load(json_file)\n",
    "\n",
    "# Download GEO data\n",
    "for key, url in data.items():\n",
    "    print(f\"Downloading file from: {url}\")\n",
    "    tar_path = CELFILE_DIR / (key + \".tar\")\n",
    "    prep.download_file(url, tar_path)\n",
    "    print(f\"Untarring and unzipping file at: {tar_path}\")\n",
    "    prep.untar_and_unzip(tar_path, CELFILE_DIR / key, delete_archive=True)\n",
    "\n",
    "print(\"All files downloaded and extracted successfully.\")"
   ]
  },
  {
   "cell_type": "code",
   "execution_count": 5,
   "metadata": {},
   "outputs": [
    {
     "name": "stdout",
     "output_type": "stream",
     "text": [
      "Executing command:\n",
      "Rscript /media/data/lab/gene/characterizing-endometriosis-transcriptome/data_prep/rma_counts.r /media/data/lab/gene/characterizing-endometriosis-transcriptome/data/cel_files /media/data/lab/gene/characterizing-endometriosis-transcriptome/data/all\n"
     ]
    },
    {
     "name": "stderr",
     "output_type": "stream",
     "text": [
      "Loading required package: BiocGenerics\n",
      "\n",
      "Attaching package: ‘BiocGenerics’\n",
      "\n",
      "The following objects are masked from ‘package:stats’:\n",
      "\n",
      "    IQR, mad, sd, var, xtabs\n",
      "\n",
      "The following objects are masked from ‘package:base’:\n",
      "\n",
      "    anyDuplicated, aperm, append, as.data.frame, basename, cbind,\n",
      "    colnames, dirname, do.call, duplicated, eval, evalq, Filter, Find,\n",
      "    get, grep, grepl, intersect, is.unsorted, lapply, Map, mapply,\n",
      "    match, mget, order, paste, pmax, pmax.int, pmin, pmin.int,\n",
      "    Position, rank, rbind, Reduce, rownames, sapply, setdiff, sort,\n",
      "    table, tapply, union, unique, unsplit, which.max, which.min\n",
      "\n",
      "Loading required package: Biobase\n",
      "Welcome to Bioconductor\n",
      "\n",
      "    Vignettes contain introductory material; view with\n",
      "    'browseVignettes()'. To cite Bioconductor, see\n",
      "    'citation(\"Biobase\")', and for packages 'citation(\"pkgname\")'.\n",
      "\n"
     ]
    },
    {
     "name": "stdout",
     "output_type": "stream",
     "text": [
      "Preprocessing data in the following directories:\n",
      "/media/data/lab/gene/characterizing-endometriosis-transcriptome/data/cel_files/GSE29981\n",
      "/media/data/lab/gene/characterizing-endometriosis-transcriptome/data/cel_files/GSE4888\n",
      "/media/data/lab/gene/characterizing-endometriosis-transcriptome/data/cel_files/GSE51981\n",
      "/media/data/lab/gene/characterizing-endometriosis-transcriptome/data/cel_files/GSE6364\n",
      "------------------------------------------------\n",
      "\n"
     ]
    },
    {
     "name": "stderr",
     "output_type": "stream",
     "text": [
      "\n"
     ]
    },
    {
     "name": "stdout",
     "output_type": "stream",
     "text": [
      "Background correcting\n",
      "Normalizing\n",
      "Calculating Expression\n",
      "Background correcting\n",
      "Normalizing\n",
      "Calculating Expression\n",
      "Background correcting\n",
      "Normalizing\n",
      "Calculating Expression\n",
      "Background correcting\n",
      "Normalizing\n",
      "Calculating Expression\n"
     ]
    },
    {
     "name": "stderr",
     "output_type": "stream",
     "text": [
      "Warning messages:\n",
      "1: replacing previous import ‘AnnotationDbi::tail’ by ‘utils::tail’ when loading ‘hgu133plus2cdf’ \n",
      "2: replacing previous import ‘AnnotationDbi::head’ by ‘utils::head’ when loading ‘hgu133plus2cdf’ \n"
     ]
    },
    {
     "name": "stdout",
     "output_type": "stream",
     "text": [
      "Probe map found: /media/data/lab/gene/characterizing-endometriosis-transcriptome/data_prep/metadata/probe_maps/hsapiens_affy_hg_u133_plus_2.tsv\n",
      "Probe map found: /media/data/lab/gene/characterizing-endometriosis-transcriptome/data_prep/metadata/probe_maps/hsapiens_affy_hg_u133_plus_2.tsv\n",
      "Probe map found: /media/data/lab/gene/characterizing-endometriosis-transcriptome/data_prep/metadata/probe_maps/hsapiens_affy_hg_u133_plus_2.tsv\n",
      "Probe map found: /media/data/lab/gene/characterizing-endometriosis-transcriptome/data_prep/metadata/probe_maps/hsapiens_affy_hg_u133_plus_2.tsv\n"
     ]
    }
   ],
   "source": [
    "# Get counts and sample conditions\n",
    "\n",
    "counts_dir = DATA_DIR / \"all\"\n",
    "counts_dir.mkdir(parents=True, exist_ok=True)\n",
    "\n",
    "probe_maps_path = METADATA_DIR / \"probe_maps\"\n",
    "\n",
    "preprocessing_script = str(DATA_PREP_DIR / \"rma_counts.r\")\n",
    "cmd = [\"Rscript\", preprocessing_script, str(CELFILE_DIR), str(counts_dir)]\n",
    "print(f\"Executing command:\\n{' '.join(cmd)}\")\n",
    "subprocess.run(cmd)\n",
    "\n",
    "prep.prep_geo_counts(counts_dir, probe_maps_path, METADATA_DIR)"
   ]
  },
  {
   "cell_type": "code",
   "execution_count": 6,
   "metadata": {},
   "outputs": [],
   "source": [
    "# Unify counts\n",
    "\n",
    "all_series = [\"GSE4888\", \"GSE6364\", \"GSE51981\", \"GSE29981\"]\n",
    "\n",
    "counts_paths = [DATA_DIR / \"all\" / (series + \"_counts.tsv\") for series in all_series]\n",
    "unified_counts_path = counts_dir / \"all_phases_all_genes_counts.tsv\"\n",
    "\n",
    "dataframes = [pd.read_csv(filepath, index_col=0, delimiter='\\t') for filepath in counts_paths]\n",
    "merged_counts_df = pd.concat(dataframes, axis=1)\n",
    "\n",
    "# Check if there are any missing values in the merged dataframe\n",
    "if merged_counts_df.isnull().any().any():\n",
    "    print('There are missing values in the merged dataframe.')\n",
    "\n",
    "# save merged dataframe to tsv\n",
    "merged_counts_df.to_csv(unified_counts_path, sep='\\t')\n",
    "\n",
    "# delete individual counts files\n",
    "for filepath in counts_paths:\n",
    "    filepath.unlink()"
   ]
  },
  {
   "cell_type": "code",
   "execution_count": 8,
   "metadata": {},
   "outputs": [],
   "source": [
    "# Copy coldata into data directory\n",
    "original_unified_coldata_path = METADATA_DIR / \"coldata.tsv\"\n",
    "unified_coldata_path = DATA_DIR / \"all\" / \"all_phases_coldata.tsv\"\n",
    "unified_coldata_path.write_text(original_unified_coldata_path.read_text())"
   ]
  },
  {
   "cell_type": "code",
   "execution_count": 9,
   "metadata": {},
   "outputs": [],
   "source": [
    "# Drop samples from counts that are not present in coldata (e.g. due to ambiguous histology reading)\n",
    "coldata = pd.read_csv(unified_coldata_path, sep='\\t', index_col=0)\n",
    "counts = pd.read_csv(unified_counts_path, sep='\\t', index_col=0)\n",
    "\n",
    "counts = counts.loc[:, counts.columns.isin(coldata.index)]\n",
    "\n",
    "counts.to_csv(unified_counts_path, sep='\\t')"
   ]
  },
  {
   "cell_type": "code",
   "execution_count": 10,
   "metadata": {},
   "outputs": [
    {
     "name": "stderr",
     "output_type": "stream",
     "text": [
      "\n",
      "Attaching package: ‘dplyr’\n",
      "\n",
      "The following objects are masked from ‘package:stats’:\n",
      "\n",
      "    filter, lag\n",
      "\n",
      "The following objects are masked from ‘package:base’:\n",
      "\n",
      "    intersect, setdiff, setequal, union\n",
      "\n",
      "Loading required package: mgcv\n",
      "Loading required package: nlme\n",
      "\n",
      "Attaching package: ‘nlme’\n",
      "\n",
      "The following object is masked from ‘package:dplyr’:\n",
      "\n",
      "    collapse\n",
      "\n",
      "This is mgcv 1.9-0. For overview type 'help(\"mgcv-package\")'.\n",
      "Loading required package: genefilter\n",
      "\n",
      "Attaching package: ‘genefilter’\n",
      "\n",
      "The following object is masked from ‘package:readr’:\n",
      "\n",
      "    spec\n",
      "\n",
      "Loading required package: BiocParallel\n",
      "Rows: 44341 Columns: 217\n",
      "── Column specification ────────────────────────────────────────────────────────\n",
      "Delimiter: \"\\t\"\n",
      "chr   (1): hgnc_symbol\n",
      "dbl (216): GSM109814, GSM109815, GSM109816, GSM109817, GSM109820, GSM109821,...\n",
      "\n",
      "ℹ Use `spec()` to retrieve the full column specification for this data.\n",
      "ℹ Specify the column types or set `show_col_types = FALSE` to quiet this message.\n",
      "Rows: 216 Columns: 4\n",
      "── Column specification ────────────────────────────────────────────────────────\n",
      "Delimiter: \"\\t\"\n",
      "chr (3): sample_name, condition, phase\n",
      "dbl (1): batch\n",
      "\n",
      "ℹ Use `spec()` to retrieve the full column specification for this data.\n",
      "ℹ Specify the column types or set `show_col_types = FALSE` to quiet this message.\n",
      "Using batch =1as a reference batch (this batch won't change)\n",
      "Found4batches\n",
      "Adjusting for1covariate(s) or covariate level(s)\n",
      "Standardizing Data across genes\n",
      "Fitting L/S model and finding priors\n",
      "Finding parametric adjustments\n",
      "Adjusting the Data\n",
      "\n"
     ]
    },
    {
     "data": {
      "text/plain": [
       "CompletedProcess(args=['Rscript', '/media/data/lab/gene/characterizing-endometriosis-transcriptome/data_prep/batch_correction.r', '/media/data/lab/gene/characterizing-endometriosis-transcriptome/data/all/all_phases_all_genes_counts.tsv', '/media/data/lab/gene/characterizing-endometriosis-transcriptome/data/all/all_phases_coldata.tsv'], returncode=0)"
      ]
     },
     "execution_count": 10,
     "metadata": {},
     "output_type": "execute_result"
    }
   ],
   "source": [
    "# Batch correction\n",
    "\n",
    "reference_level = \"healthy\"\n",
    "contrast_level = \"endometriosis\"\n",
    "\n",
    "bc_script = str(DATA_PREP_DIR / \"batch_correction.r\")\n",
    "\n",
    "cmd = [\"Rscript\", bc_script, str(unified_counts_path), str(unified_coldata_path)]\n",
    "subprocess.run(cmd)"
   ]
  },
  {
   "cell_type": "code",
   "execution_count": 27,
   "metadata": {},
   "outputs": [],
   "source": [
    "# Create filtered counts for all matrisome and core matrisome genes\n",
    "with open(ANALYSIS_DIR / \"core_matrisome_genes.json\", 'r') as json_file:\n",
    "    matrisome_core_genes = json.load(json_file)['symbols']\n",
    "\n",
    "with open(ANALYSIS_DIR / \"all_matrisome_genes.json\", 'r') as json_file:\n",
    "    matrisome_all_genes = json.load(json_file)['symbols']\n",
    "\n",
    "counts_df = pd.read_csv(unified_counts_path, sep='\\t')\n",
    "\n",
    "core_matrisome_counts_df = counts_df[counts_df['symbol'].isin(matrisome_core_genes)]\n",
    "core_matrisome_counts_df = core_matrisome_counts_df.groupby('symbol').mean().reset_index()\n",
    "core_matrisome_counts_path = DATA_DIR / \"all\" / \"all_phases_core_matrisome_counts.tsv\"\n",
    "core_matrisome_counts_df.to_csv(core_matrisome_counts_path, sep='\\t', index=False)\n",
    "\n",
    "all_matrisome_counts_df = counts_df[counts_df['symbol'].isin(matrisome_all_genes)]\n",
    "all_matrisome_counts_df = all_matrisome_counts_df.groupby('symbol').mean().reset_index()\n",
    "all_matrisome_counts_path = DATA_DIR / \"all\" / \"all_phases_all_matrisome_counts.tsv\"\n",
    "all_matrisome_counts_df.to_csv(all_matrisome_counts_path, sep='\\t', index=False)"
   ]
  },
  {
   "cell_type": "code",
   "execution_count": 31,
   "metadata": {},
   "outputs": [],
   "source": [
    "# Separate by phase\n",
    "\n",
    "phases = [\n",
    "    \"early_secretory\",\n",
    "    \"mid_secretory\",\n",
    "    \"proliferative\"\n",
    "]\n",
    "\n",
    "gene_sets = {\n",
    "    \"all_genes\": unified_counts_path,\n",
    "    \"all_matrisome\": all_matrisome_counts_path,\n",
    "    \"core_matrisome\": core_matrisome_counts_path\n",
    "}\n",
    "\n",
    "\"\"\"\n",
    "Using the following existing files:\n",
    "    - all_phases_all_genes_counts.tsv\n",
    "    - all_phases_all_matrisome_counts.tsv\n",
    "    - all_phases_core_matrisome_counts.tsv\n",
    "    - all_phases_coldata.tsv\n",
    "\n",
    "Create new files:\n",
    "    - all_phases_all_matrisome_counts.tsv\n",
    "    - all_phases_core_matrisome_counts.tsv\n",
    "    - early_secretory_all_matrisome_counts.tsv\n",
    "    - early_secretory_coldata.tsv\n",
    "    - early_secretory_matrisome_core_counts.tsv\n",
    "    - mid_secretory_coldata.tsv\n",
    "    - mid_secretory_core_counts.tsv\n",
    "    - mid_secretory_counts.tsv\n",
    "    - proliferative_coldata.tsv\n",
    "    - proliferative_core_counts.tsv\n",
    "    - proliferative_counts.tsv\n",
    "\"\"\"\n",
    "\n",
    "coldata_df = pd.read_csv(unified_coldata_path, sep='\\t')\n",
    "\n",
    "for gene_set, counts_path in gene_sets.items():\n",
    "    counts_df = pd.read_csv(counts_path, sep='\\t')\n",
    "    for phase in phases:\n",
    "        # Filter counts columns using the phase column of coldata\n",
    "        phase_samples = coldata_df[coldata_df['phase'] == phase]['sample_name'].values\n",
    "        phase_counts_df = counts_df[['symbol'] + list(phase_samples)]\n",
    "\n",
    "        # Save the counts data for each phase and gene set\n",
    "        phase_counts_file = DATA_DIR / \"all\" / f\"{phase}_{gene_set}_counts.tsv\"\n",
    "        phase_counts_df.to_csv(phase_counts_file, sep='\\t', index=False)\n",
    "\n",
    "        # Save the coldata for each phase\n",
    "        if gene_set == \"all_genes\":\n",
    "            phase_coldata_df = coldata_df[coldata_df['phase'] == phase]\n",
    "            phase_coldata_file = DATA_DIR / \"all\" / f\"{phase}_coldata.tsv\"\n",
    "            phase_coldata_df.to_csv(phase_coldata_file, sep='\\t', index=False)"
   ]
  },
  {
   "cell_type": "code",
   "execution_count": 13,
   "metadata": {},
   "outputs": [],
   "source": [
    "\"\"\"\n",
    "Set aside 45 samples for validation (24 healthy, 21 endometriosis) and separate fit/test sets.\n",
    "\n",
    "The test set contains the 45 validation samples, and the fit set contains all other samples.\n",
    "\"\"\"\n",
    "\n",
    "n_healthy = 24\n",
    "n_endometriosis = 21\n",
    "\n",
    "coldata_df = pd.read_csv(unified_coldata_path, sep='\\t')\n",
    "\n",
    "healthy_samples = coldata_df[coldata_df['condition'] == 'healthy']['sample_name'].tolist()\n",
    "endometriosis_samples = coldata_df[coldata_df['condition'] == 'endometriosis']['sample_name'].tolist()\n",
    "\n",
    "# Choose 24 healthy and 21 endometriosis samples from the end of the list\n",
    "validation_samples = healthy_samples[-n_healthy:] + endometriosis_samples[-n_endometriosis:]\n",
    "\n",
    "# Remove validation samples from the list of all samples\n",
    "fit_samples = healthy_samples[:-n_healthy] + endometriosis_samples[:-n_endometriosis]\n",
    "\n",
    "samples = {\n",
    "    \"fit\": fit_samples,\n",
    "    \"test\": validation_samples\n",
    "}\n",
    "\n",
    "# Create fit and test sets\n",
    "fit_dir = DATA_DIR / \"fit\"\n",
    "test_dir = DATA_DIR / \"test\"\n",
    "fit_dir.mkdir(exist_ok=True)\n",
    "test_dir.mkdir(exist_ok=True)\n",
    "\n",
    "for gene_set, counts_path in gene_sets.items():\n",
    "    counts_df = pd.read_csv(counts_path, sep='\\t')\n",
    "    for phase in phases + [\"all_phases\"]:\n",
    "        # Filter counts columns using the phase column of coldata\n",
    "        if phase == \"all_phases\":\n",
    "            phase_samples = coldata_df['sample_name'].values\n",
    "        else:\n",
    "            phase_samples = coldata_df[coldata_df['phase'] == phase]['sample_name'].values\n",
    "        \n",
    "        for sample_type in samples:\n",
    "            # Filter counts and coldata for fit/test samples\n",
    "            sample_counts_df = counts_df[['symbol'] + [sample for sample in samples[sample_type] if sample in phase_samples]]\n",
    "            sample_coldata_df = coldata_df[coldata_df['sample_name'].isin(samples[sample_type])]\n",
    "\n",
    "            # Save files for each phase and sample type\n",
    "            if sample_type == \"fit\":\n",
    "                sample_counts_file = fit_dir / f\"{phase}_{gene_set}_counts.tsv\"\n",
    "                sample_coldata_file = fit_dir / f\"{phase}_coldata.tsv\"\n",
    "            else:\n",
    "                sample_counts_file = test_dir / f\"{phase}_{gene_set}_counts.tsv\"\n",
    "                sample_coldata_file = test_dir / f\"{phase}_coldata.tsv\"\n",
    "\n",
    "            sample_counts_df.to_csv(sample_counts_file, sep='\\t', index=False)\n",
    "            sample_coldata_df.to_csv(sample_coldata_file, sep='\\t', index=False)"
   ]
  },
  {
   "cell_type": "code",
   "execution_count": null,
   "metadata": {},
   "outputs": [],
   "source": []
  }
 ],
 "metadata": {
  "kernelspec": {
   "display_name": "tissue-model-analysis",
   "language": "python",
   "name": "python3"
  },
  "language_info": {
   "codemirror_mode": {
    "name": "ipython",
    "version": 3
   },
   "file_extension": ".py",
   "mimetype": "text/x-python",
   "name": "python",
   "nbconvert_exporter": "python",
   "pygments_lexer": "ipython3",
   "version": "3.9.16"
  },
  "orig_nbformat": 4
 },
 "nbformat": 4,
 "nbformat_minor": 2
}
